{
 "cells": [
  {
   "cell_type": "code",
   "execution_count": null,
   "metadata": {},
   "outputs": [],
   "source": [
    "def create_data(image_dir):\n",
    "    \"\"\"Gets numpy data from images that are in the folders.\"\"\"\n",
    "\n",
    "    image_files = [image_dir + '{0}'.format(f)\n",
    "                           for f in os.listdir(image_dir) if not f.startswith('.')]\n",
    "\n",
    "\n",
    "    num_images = len(image_files)\n",
    "    images_np_arr = np.empty([num_images, 256, 256, 1], dtype=np.float32)\n",
    "\n",
    "\n",
    "    for image in range(num_images):\n",
    "        img = cv2.imread(image_files[image])\n",
    "        img = cv2.resize(img,(256,256))\n",
    "        img = cv2.cvtColor(img, cv2.COLOR_BGR2GRAY)\n",
    "        img = img.reshape(256, 256, 1)\n",
    "        img = img.astype(np.float32)\n",
    "        images_np_arr[image] = img\n",
    "\n",
    "    data = images_np_arr\n",
    "\n",
    " \n",
    "    return data\n"
   ]
  }
 ],
 "metadata": {
  "kernelspec": {
   "display_name": "Python 2",
   "language": "python",
   "name": "python2"
  },
  "language_info": {
   "codemirror_mode": {
    "name": "ipython",
    "version": 2
   },
   "file_extension": ".py",
   "mimetype": "text/x-python",
   "name": "python",
   "nbconvert_exporter": "python",
   "pygments_lexer": "ipython2",
   "version": "2.7.12"
  }
 },
 "nbformat": 4,
 "nbformat_minor": 2
}

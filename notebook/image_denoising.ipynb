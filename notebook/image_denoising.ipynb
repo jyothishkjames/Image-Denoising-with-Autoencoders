{
 "cells": [
  {
   "cell_type": "code",
   "execution_count": null,
   "metadata": {},
   "outputs": [],
   "source": [
    "def create_data(image_dir):\n",
    "    \"\"\"Gets numpy data from images that are in the folders.\"\"\"\n",
    "\n",
    "    image_files = [image_dir + '{0}'.format(f)\n",
    "                           for f in os.listdir(image_dir) if not f.startswith('.')]\n",
    "\n",
    "\n",
    "    num_images = len(image_files)\n",
    "    images_np_arr = np.empty([num_images, 256, 256, 1], dtype=np.float32)\n",
    "\n",
    "\n",
    "    for image in range(num_images):\n",
    "        img = cv2.imread(image_files[image])\n",
    "        img = cv2.resize(img,(256,256))\n",
    "        img = cv2.cvtColor(img, cv2.COLOR_BGR2GRAY)\n",
    "        img = img.reshape(256, 256, 1)\n",
    "        img = img.astype(np.float32)\n",
    "        images_np_arr[image] = img\n",
    "\n",
    "    data = images_np_arr\n",
    "\n",
    " \n",
    "    return data\n"
   ]
  },
  {
   "cell_type": "code",
   "execution_count": null,
   "metadata": {},
   "outputs": [],
   "source": [
    "from keras.models import Model\n",
    "from keras.layers import Input, Activation, Conv2D, BatchNormalization, Subtract\n",
    "\n",
    "import tensorflow as tf\n",
    "import os\n",
    "import numpy as np\n",
    "import cv2\n",
    "from matplotlib import pyplot as plt \n",
    "from keras.initializers import normal\n",
    "print(tf.__version__)\n",
    "\n",
    "#get current working directory\n",
    "cwd = os.getcwd()\n",
    "\n",
    "train_data = create_data(cwd+\"/image_patch/Train/\")\n",
    "test_data = create_data(cwd+\"/image_patch/Test/\")\n",
    "\n",
    "train_data_noise = create_data(cwd+\"/image_patch_noise/Train/\")\n",
    "test_data_noise = create_data(cwd+\"/image_patch_noise/Test/\")"
   ]
  }
 ],
 "metadata": {
  "kernelspec": {
   "display_name": "Python 2",
   "language": "python",
   "name": "python2"
  },
  "language_info": {
   "codemirror_mode": {
    "name": "ipython",
    "version": 2
   },
   "file_extension": ".py",
   "mimetype": "text/x-python",
   "name": "python",
   "nbconvert_exporter": "python",
   "pygments_lexer": "ipython2",
   "version": "2.7.12"
  }
 },
 "nbformat": 4,
 "nbformat_minor": 2
}

{
 "cells": [
  {
   "cell_type": "code",
   "execution_count": 15,
   "metadata": {},
   "outputs": [],
   "source": [
    "from sklearn.feature_extraction import image\n",
    "from matplotlib import pyplot as plt\n",
    "import cv2\n",
    "import numpy as np\n",
    "import os\n",
    "\n",
    "cwd = os.getcwd()\n",
    "\n",
    "one_image = cv2.imread(cwd+'/dataset/images/image5.jpg')\n",
    "\n",
    "one_image = cv2.cvtColor(one_image, cv2.COLOR_BGR2GRAY)\n",
    "patches = image.extract_patches_2d(one_image, (256, 256), max_patches=20, random_state=1000)\n",
    "\n",
    "mean = 0.0  \n",
    "std = 10.0  \n",
    "   \n",
    "for i in range(len(patches)):                      \n",
    "    row,col= patches[i].shape\n",
    "    gauss = np.random.normal(mean,std,(row,col))\n",
    "    gauss = gauss.reshape(row,col)\n",
    "    \n",
    "    #Adding gaussian noise\n",
    "    noisy = patches[i] + gauss \n",
    "    noisy = np.clip(noisy, 0, 255)       \n",
    "    plt.imsave(cwd+'/dataset/image_patch/'+str(i)+'_image5.png', patches[i], cmap='gray')                \n",
    "    plt.imsave('image_patch_noise/'+str(i)+'_image5.png', noisy, cmap='gray')\n"
   ]
  },
  {
   "cell_type": "code",
   "execution_count": null,
   "metadata": {},
   "outputs": [],
   "source": []
  }
 ],
 "metadata": {
  "kernelspec": {
   "display_name": "Python 2",
   "language": "python",
   "name": "python2"
  },
  "language_info": {
   "codemirror_mode": {
    "name": "ipython",
    "version": 2
   },
   "file_extension": ".py",
   "mimetype": "text/x-python",
   "name": "python",
   "nbconvert_exporter": "python",
   "pygments_lexer": "ipython2",
   "version": "2.7.12"
  }
 },
 "nbformat": 4,
 "nbformat_minor": 2
}
